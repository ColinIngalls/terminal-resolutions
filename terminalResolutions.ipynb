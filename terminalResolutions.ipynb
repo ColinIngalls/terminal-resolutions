{
 "cells": [
  {
   "cell_type": "code",
   "execution_count": 77,
   "metadata": {},
   "outputs": [],
   "source": [
    "# %load Resolve.py\n",
    "# Resolve.py\n",
    "\"\"\"\n",
    "We consider a normal order ramified on snc but no secondary ramification. We\n",
    "blow up repeatedly at nodes recording the log discrepancy and\n",
    "b-discrepancy until we have all possible negative discrepancy curves.\n",
    "\n",
    "The exceptional curves should probably be indexed by dyadic fractions, written\n",
    "as binary numbers, but we will instead clear denominators and work with\n",
    "integers. \n",
    "\"\"\"\n",
    "\n",
    "from fractions import Fraction\n",
    "\n",
    "\n",
    "# Enter initial ramification data.\n",
    "# The ramification cover of the curve i is gi copies of zi modulo n\n",
    "#initial_ram_data = input(\"Please enter the ramification data tuple n,z1,z2,g1,g2\\n\")\n",
    "#n_str, z1_str, z2_str, g1_str, g2_str = initial_ram_data.split(',')\n",
    "#n = int(n_str.strip())\n",
    "#z1 = int(z1_str.strip())\n",
    "#z2 = int(z2_str.strip())\n",
    "#g1 = int(g1_str.strip())\n",
    "#g2 = int(g2_str.strip())\n",
    "\n",
    "\n",
    "#This function computes the order of an element in a cyclic group.\n",
    "def order(num,modulus):\n",
    "    ord = 1\n",
    "    while ord*num %modulus !=0:\n",
    "        ord +=1\n",
    "    return ord\n",
    "\n",
    "\n",
    "#print(\"Corresponding maximal order has ram data\", end=':')\n",
    "#print(z1 % n, z2 % n, ' modulo ', n, end='')\n",
    "#f1 = order(z1,n) # these are ramification indices of max order\n",
    "#f2 = order(z2,n)\n",
    "#print(' giving ramification indices ', f1, f2,'.')\n",
    "# Check working by showing ramification of containing maximal order\n",
    "\n",
    "\n",
    "\n",
    "\"\"\"\n",
    "This is the function that computes log and b-discrepancies of\n",
    "all exceptional curves in a good log resolution. Here the good log\n",
    "resolution is one chosen so all negative discrepancy curves are\n",
    "guaranteed to be found there. The data will be recorded in a dictionary.\n",
    "\"\"\"\n",
    "def resolve(n,z1,z2,g1,g2):\n",
    "    f1 = order(z1,n) # these are ramification indices of max order\n",
    "    f2 = order(z2,n)\n",
    "    no_blowups = max(g1,g2)*n -1\n",
    "    # crude bound on number of blowups to ensure good log resolution\n",
    "    print(f'We need to blowup set of nodes  at most {no_blowups} times.')\n",
    "    no_curves = 2**no_blowups # number of exc curves actually 2**no_blowups -1\n",
    "    curves = {0:[Fraction(1,f1*g1)-1,z1] , no_curves:[Fraction(1,f2*g2)-1,z2]}\n",
    "    # Create dictionary of curve data. Keys are 0 up to no_curves.\n",
    "    # Current values are lists of [log discrepancy, ram of max order] \n",
    "    step = no_curves # Final indices for strict transforms of initial ram \n",
    "                     # curves are `step' apart\n",
    "\n",
    "    \n",
    "    for i in range(1,no_blowups+1):\n",
    "\n",
    "        print(f'This is the {i}-th blowup. New curves have  log and b- discrepancy and ramification:')\n",
    "        l = len(curves)-1 # the number of new exceptional curves\n",
    "       \n",
    "        oldcurves = set(curves.keys()).difference({0,no_curves})\n",
    "        for index in oldcurves:\n",
    "            curves[index] = [curves[index][0], curves[index][1], curves[index][2],curves[index][3]-2]                                                         \n",
    "        step = int(step/2) # indices of i-th blowup curves have indices 'step' apart\n",
    "        \n",
    "        is_good_res = True\n",
    "        # We'll use this to test if the i-th blowup gives a good resolution\n",
    "\n",
    "        for j in range(l):\n",
    "            log_disc = 1 + curves[2*j*step][0] + curves[(2*j+2)*step][0]\n",
    "            #  Give log discrepancy of j-th new exceptional in i-th blowup\n",
    "            is_good_res =  is_good_res and (log_disc >=0)\n",
    "            ram = (curves[2*j*step][1] + curves[(2*j+2)*step][1])%n\n",
    "            # Gives ramification along j-th new exceptional in i-th blowup\n",
    "            b_disc = log_disc + 1-Fraction(1,order(ram,n))\n",
    "            # Compute the b-discrepancy\n",
    "            curves[(2*j +1)*step] = [log_disc, ram, b_disc,-1]\n",
    "            # Update curves dictionary with entry for j-th curve in i-th blowup\n",
    "            print(log_disc,b_disc, ram, end=';')\n",
    "\n",
    "        if is_good_res:\n",
    "            break\n",
    "        else:\n",
    "            print(' DONE', end='\\n\\n')\n",
    "    return curves\n",
    "    print('\\n\\n Good log resolution has been achieved.')\n",
    "\n",
    "def continuedFraction(a):\n",
    "    return a\n",
    "    \n",
    "def contract(curves):\n",
    "    indices = sorted(curves)\n",
    "    indices.pop()\n",
    "    del indices[0]\n",
    "    last = max(indices)\n",
    "    first = min(indices)\n",
    "    tocontract = [ i for i in indices if curves[i][2] >= 0 ]\n",
    "    # next to contract only -1 curves\n",
    "    print(tocontract)\n",
    "    print(curves)\n",
    "    for i in tocontract:\n",
    "        if curves[i][3] == -1:\n",
    "            curves[min(i+1,last)][3] += 1\n",
    "            curves[max(i-1,first)][3] += 1\n",
    "            curves.pop(i)\n",
    "    print(sorted(curves))        \n",
    "    return curves\n",
    "\n",
    "    \n",
    "#resolve(n,z1,z2,g1,g2)\n"
   ]
  },
  {
   "cell_type": "code",
   "execution_count": 78,
   "metadata": {},
   "outputs": [
    {
     "name": "stdout",
     "output_type": "stream",
     "text": [
      "We need to blowup set of nodes  at most 4 times.\n",
      "This is the 1-th blowup. New curves have  log and b- discrepancy and ramification:\n",
      "-3/5 1/5 4; DONE\n",
      "\n",
      "This is the 2-th blowup. New curves have  log and b- discrepancy and ramification:\n",
      "-2/5 2/5 2;-2/5 -2/5 0; DONE\n",
      "\n",
      "This is the 3-th blowup. New curves have  log and b- discrepancy and ramification:\n",
      "-1/5 -1/5 0;0 4/5 1;0 4/5 4;-1/5 3/5 1; DONE\n",
      "\n",
      "This is the 4-th blowup. New curves have  log and b- discrepancy and ramification:\n",
      "0 4/5 3;2/5 6/5 2;3/5 7/5 3;2/5 2/5 0;2/5 6/5 3;3/5 7/5 4;2/5 6/5 1;0 4/5 2;"
     ]
    }
   ],
   "source": [
    "cv = resolve(5,3,1,1,1)"
   ]
  },
  {
   "cell_type": "code",
   "execution_count": 79,
   "metadata": {},
   "outputs": [
    {
     "data": {
      "text/plain": [
       "{0: [Fraction(-4, 5), 3],\n",
       " 16: [Fraction(-4, 5), 1],\n",
       " 8: [Fraction(-3, 5), 4, Fraction(1, 5), -7],\n",
       " 4: [Fraction(-2, 5), 2, Fraction(2, 5), -5],\n",
       " 12: [Fraction(-2, 5), 0, Fraction(-2, 5), -5],\n",
       " 2: [Fraction(-1, 5), 0, Fraction(-1, 5), -3],\n",
       " 6: [Fraction(0, 1), 1, Fraction(4, 5), -3],\n",
       " 10: [Fraction(0, 1), 4, Fraction(4, 5), -3],\n",
       " 14: [Fraction(-1, 5), 1, Fraction(3, 5), -3],\n",
       " 1: [Fraction(0, 1), 3, Fraction(4, 5), -1],\n",
       " 3: [Fraction(2, 5), 2, Fraction(6, 5), -1],\n",
       " 5: [Fraction(3, 5), 3, Fraction(7, 5), -1],\n",
       " 7: [Fraction(2, 5), 0, Fraction(2, 5), -1],\n",
       " 9: [Fraction(2, 5), 3, Fraction(6, 5), -1],\n",
       " 11: [Fraction(3, 5), 4, Fraction(7, 5), -1],\n",
       " 13: [Fraction(2, 5), 1, Fraction(6, 5), -1],\n",
       " 15: [Fraction(0, 1), 2, Fraction(4, 5), -1]}"
      ]
     },
     "execution_count": 79,
     "metadata": {},
     "output_type": "execute_result"
    }
   ],
   "source": [
    "cv"
   ]
  },
  {
   "cell_type": "code",
   "execution_count": 80,
   "metadata": {},
   "outputs": [
    {
     "name": "stdout",
     "output_type": "stream",
     "text": [
      "[1, 3, 4, 5, 6, 7, 8, 9, 10, 11, 13, 14, 15]\n",
      "{0: [Fraction(-4, 5), 3], 16: [Fraction(-4, 5), 1], 8: [Fraction(-3, 5), 4, Fraction(1, 5), -7], 4: [Fraction(-2, 5), 2, Fraction(2, 5), -5], 12: [Fraction(-2, 5), 0, Fraction(-2, 5), -5], 2: [Fraction(-1, 5), 0, Fraction(-1, 5), -3], 6: [Fraction(0, 1), 1, Fraction(4, 5), -3], 10: [Fraction(0, 1), 4, Fraction(4, 5), -3], 14: [Fraction(-1, 5), 1, Fraction(3, 5), -3], 1: [Fraction(0, 1), 3, Fraction(4, 5), -1], 3: [Fraction(2, 5), 2, Fraction(6, 5), -1], 5: [Fraction(3, 5), 3, Fraction(7, 5), -1], 7: [Fraction(2, 5), 0, Fraction(2, 5), -1], 9: [Fraction(2, 5), 3, Fraction(6, 5), -1], 11: [Fraction(3, 5), 4, Fraction(7, 5), -1], 13: [Fraction(2, 5), 1, Fraction(6, 5), -1], 15: [Fraction(0, 1), 2, Fraction(4, 5), -1]}\n",
      "[0, 2, 4, 6, 8, 10, 12, 14, 16]\n"
     ]
    },
    {
     "data": {
      "text/plain": [
       "{0: [Fraction(-4, 5), 3],\n",
       " 16: [Fraction(-4, 5), 1],\n",
       " 8: [Fraction(-3, 5), 4, Fraction(1, 5), -5],\n",
       " 4: [Fraction(-2, 5), 2, Fraction(2, 5), -3],\n",
       " 12: [Fraction(-2, 5), 0, Fraction(-2, 5), -3],\n",
       " 2: [Fraction(-1, 5), 0, Fraction(-1, 5), -1],\n",
       " 6: [Fraction(0, 1), 1, Fraction(4, 5), -1],\n",
       " 10: [Fraction(0, 1), 4, Fraction(4, 5), -1],\n",
       " 14: [Fraction(-1, 5), 1, Fraction(3, 5), -1]}"
      ]
     },
     "execution_count": 80,
     "metadata": {},
     "output_type": "execute_result"
    }
   ],
   "source": [
    "contract(cv)"
   ]
  },
  {
   "cell_type": "code",
   "execution_count": null,
   "metadata": {},
   "outputs": [],
   "source": []
  }
 ],
 "metadata": {
  "kernelspec": {
   "display_name": "Python 3",
   "language": "python",
   "name": "python3"
  },
  "language_info": {
   "codemirror_mode": {
    "name": "ipython",
    "version": 3
   },
   "file_extension": ".py",
   "mimetype": "text/x-python",
   "name": "python",
   "nbconvert_exporter": "python",
   "pygments_lexer": "ipython3",
   "version": "3.8.2"
  }
 },
 "nbformat": 4,
 "nbformat_minor": 2
}
