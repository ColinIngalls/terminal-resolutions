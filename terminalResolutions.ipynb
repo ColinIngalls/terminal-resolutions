{
 "cells": [
  {
   "cell_type": "code",
   "execution_count": 94,
   "metadata": {},
   "outputs": [],
   "source": [
    "# %load Resolve.py\n",
    "# Resolve.py\n",
    "\"\"\"\n",
    "We consider a normal order ramified on snc but no secondary ramification. We\n",
    "blow up repeatedly at nodes recording the log discrepancy and\n",
    "b-discrepancy until we have all possible negative discrepancy curves.\n",
    "\n",
    "The exceptional curves should probably be indexed by dyadic fractions, written\n",
    "as binary numbers, but we will instead clear denominators and work with\n",
    "integers. \n",
    "\"\"\"\n",
    "\n",
    "from fractions import Fraction as FR\n",
    "\n",
    "\n",
    "# Enter initial ramification data.\n",
    "# The ramification cover of the curve i is gi copies of zi modulo n\n",
    "#initial_ram_data = input(\"Please enter the ramification data tuple n,z1,z2,g1,g2\\n\")\n",
    "#n_str, z1_str, z2_str, g1_str, g2_str = initial_ram_data.split(',')\n",
    "#n = int(n_str.strip())\n",
    "#z1 = int(z1_str.strip())\n",
    "#z2 = int(z2_str.strip())\n",
    "#g1 = int(g1_str.strip())\n",
    "#g2 = int(g2_str.strip())\n",
    "\n",
    "\n",
    "#This function computes the order of an element in a cyclic group.\n",
    "def order(num,modulus):\n",
    "    ord = 1\n",
    "    while ord*num %modulus !=0:\n",
    "        ord +=1\n",
    "    return ord\n",
    "\n",
    "\n",
    "#print(\"Corresponding maximal order has ram data\", end=':')\n",
    "#print(z1 % n, z2 % n, ' modulo ', n, end='')\n",
    "#f1 = order(z1,n) # these are ramification indices of max order\n",
    "#f2 = order(z2,n)\n",
    "#print(' giving ramification indices ', f1, f2,'.')\n",
    "# Check working by showing ramification of containing maximal order\n",
    "\n",
    "\n",
    "\n",
    "\"\"\"\n",
    "This is the function that computes log and b-discrepancies of\n",
    "all exceptional curves in a good log resolution. Here the good log\n",
    "resolution is one chosen so all negative discrepancy curves are\n",
    "guaranteed to be found there. The data will be recorded in a dictionary.\n",
    "\"\"\"\n",
    "def resolve(n,z1,z2,g1,g2):\n",
    "    f1 = order(z1,n) # these are ramification indices of max order\n",
    "    f2 = order(z2,n)\n",
    "    no_blowups = max(g1,g2)*n -1\n",
    "    # crude bound on number of blowups to ensure good log resolution\n",
    "    print(f'We need to blowup set of nodes  at most {no_blowups} times.')\n",
    "    no_curves = 2**no_blowups # number of exc curves actually 2**no_blowups -1\n",
    "    curves = {0:[Fraction(1,f1*g1)-1,z1] , no_curves:[Fraction(1,f2*g2)-1,z2]}\n",
    "    # Create dictionary of curve data. Keys are 0 up to no_curves.\n",
    "    # Current values are lists of [log discrepancy, ram of max order] \n",
    "    step = no_curves # Final indices for strict transforms of initial ram \n",
    "                     # curves are `step' apart\n",
    "\n",
    "    \n",
    "    for i in range(1,no_blowups+1):\n",
    "\n",
    " #       print(f'This is the {i}-th blowup. New curves have  log and b- discrepancy and ramification:')\n",
    "        l = len(curves)-1 # the number of new exceptional curves\n",
    "       \n",
    "        oldcurves = set(curves.keys()).difference({0,no_curves})\n",
    "        for index in oldcurves:\n",
    "            curves[index] = [curves[index][0], curves[index][1], curves[index][2],curves[index][3]-2]                                                         \n",
    "        step = int(step/2) # indices of i-th blowup curves have indices 'step' apart\n",
    "        \n",
    "        is_good_res = True\n",
    "        # We'll use this to test if the i-th blowup gives a good resolution\n",
    "\n",
    "        for j in range(l):\n",
    "            log_disc = 1 + curves[2*j*step][0] + curves[(2*j+2)*step][0]\n",
    "            #  Give log discrepancy of j-th new exceptional in i-th blowup\n",
    "            is_good_res =  is_good_res and (log_disc >=0)\n",
    "            ram = (curves[2*j*step][1] + curves[(2*j+2)*step][1])%n\n",
    "            # Gives ramification along j-th new exceptional in i-th blowup\n",
    "            b_disc = log_disc + 1-Fraction(1,order(ram,n))\n",
    "            # Compute the b-discrepancy\n",
    "            curves[(2*j +1)*step] = [log_disc, ram, b_disc,-1]\n",
    "            # Update curves dictionary with entry for j-th curve in i-th blowup\n",
    "#            print(log_disc,b_disc, ram, end=';')\n",
    "\n",
    "        if is_good_res:\n",
    "            break\n",
    "        else:\n",
    "            print(' DONE', end='\\n\\n')\n",
    "    indices = sorted(curves)\n",
    "    curvesList = [ curves[i] for i in indices]\n",
    "    curvesList[0].extend([0,0])\n",
    "    curvesList[len(curvesList)-1].extend([0,0])\n",
    "    print(curvesList)    \n",
    "    return curvesList\n",
    "#    print('\\n\\n Good log resolution has been achieved.')\n",
    "\n",
    "def toNegativeFractions(sequence):\n",
    "    return [-Fraction(x,1) for x in sequence]\n",
    "    \n",
    "def HJcontinuedFraction(sequence):\n",
    "#    print(sequence)\n",
    "    if len(sequence) == 1:\n",
    "#        print(sequence[0])\n",
    "        return sequence[0]\n",
    "    else:\n",
    "        first = sequence.pop(0)\n",
    "        return first-1/HJcontinuedFraction(sequence)\n",
    "    \n",
    "def cyclicGroup(seq):\n",
    "    frac = HJcontinuedFraction(toNegativeFractions(seq))\n",
    "    r = frac.numerator\n",
    "    b = frac.denominator\n",
    "    return([r,1,b])\n",
    "\n",
    "def contract2smooth(curves):\n",
    "    noCurves=len(curves)\n",
    "    i = 1\n",
    "    while i < noCurves:\n",
    "        if curves[i][2] >= 0 and curves[i][3] == -1:\n",
    "#            print(i)\n",
    "            noCurves=len(curves)\n",
    "            curves[min(i+1,noCurves-2)][3] += 1\n",
    "            curves[max(i-1,1)][3] += 1\n",
    "            curves.pop(i)\n",
    "            print([x[3] for x in curves])        \n",
    "            i = 1\n",
    "            noCurves -= 1\n",
    "        else:\n",
    "            i += 1\n",
    "    return curves\n",
    "\n",
    "def contract2min(curves):\n",
    "    # scan until you find a b des >= 0\n",
    "    # then scan until you have b des < 0\n",
    "    noCurves = len(curves)\n",
    "    smoothPt = [0]\n",
    "    for b in range (0,noCurves):\n",
    "        curves.insert(b*2,smoothPt)\n",
    "    curves.pop(0) \n",
    "    # this is a sequence for data for curves and points\n",
    "    i = 1\n",
    "    while i < noCurves:        \n",
    "        print(curves)\n",
    "        print(noCurves)\n",
    "        print(i)\n",
    "        if curves[2*i][2] >= 0:\n",
    "            start = i\n",
    "            j = i+1\n",
    "            while j < noCurves and curves[2*j][2] >= 0:\n",
    "                j += 1\n",
    "            stop = j\n",
    "            print('start stop are:',start,stop)\n",
    "            print('to contract are:',[curves[2*x] for x in range(start,stop)])\n",
    "            cg = cyclicGroup([curves[2*x][3] for x in range(start,stop)])\n",
    "            print(cg)\n",
    "            print(curves)\n",
    "            del curves[2*start-1:2*stop]\n",
    "            print(curves)\n",
    "            curves.insert(2*start-1,cg)\n",
    "            print(curves)\n",
    "        i += 1    \n",
    "        noCurves = (len(curves)-1)/2\n",
    "    return(curves)\n",
    "\n",
    "#resolve(n,z1,z2,g1,g2)\n"
   ]
  },
  {
   "cell_type": "code",
   "execution_count": 95,
   "metadata": {},
   "outputs": [
    {
     "name": "stdout",
     "output_type": "stream",
     "text": [
      "We need to blowup set of nodes  at most 4 times.\n",
      " DONE\n",
      "\n",
      " DONE\n",
      "\n",
      " DONE\n",
      "\n",
      "[[Fraction(-4, 5), 3, 0, 0], [Fraction(0, 1), 3, Fraction(4, 5), -1], [Fraction(-1, 5), 0, Fraction(-1, 5), -3], [Fraction(2, 5), 2, Fraction(6, 5), -1], [Fraction(-2, 5), 2, Fraction(2, 5), -5], [Fraction(3, 5), 3, Fraction(7, 5), -1], [Fraction(0, 1), 1, Fraction(4, 5), -3], [Fraction(2, 5), 0, Fraction(2, 5), -1], [Fraction(-3, 5), 4, Fraction(1, 5), -7], [Fraction(2, 5), 3, Fraction(6, 5), -1], [Fraction(0, 1), 4, Fraction(4, 5), -3], [Fraction(3, 5), 4, Fraction(7, 5), -1], [Fraction(-2, 5), 0, Fraction(-2, 5), -5], [Fraction(2, 5), 1, Fraction(6, 5), -1], [Fraction(-1, 5), 1, Fraction(3, 5), -3], [Fraction(0, 1), 2, Fraction(4, 5), -1], [Fraction(-4, 5), 1, 0, 0]]\n",
      "[0, -2, -1, -5, -1, -3, -1, -7, -1, -3, -1, -5, -1, -3, -1, 0]\n",
      "[0, -1, -4, -1, -3, -1, -7, -1, -3, -1, -5, -1, -3, -1, 0]\n",
      "[0, -1, -3, -2, -1, -7, -1, -3, -1, -5, -1, -3, -1, 0]\n",
      "[0, -1, -3, -1, -6, -1, -3, -1, -5, -1, -3, -1, 0]\n",
      "[0, -1, -2, -5, -1, -3, -1, -5, -1, -3, -1, 0]\n",
      "[0, -1, -2, -4, -2, -1, -5, -1, -3, -1, 0]\n",
      "[0, -1, -2, -4, -1, -4, -1, -3, -1, 0]\n",
      "[0, -1, -2, -3, -3, -1, -3, -1, 0]\n",
      "[0, -1, -2, -3, -2, -2, -1, 0]\n",
      "[0, -1, -2, -3, -2, -1, 0]\n",
      "[0, -1, -2, -3, -1, 0]\n",
      "[[Fraction(-4, 5), 3, 0, 0], [0], [Fraction(-1, 5), 0, Fraction(-1, 5), -1], [0], [Fraction(-2, 5), 2, Fraction(2, 5), -2], [0], [Fraction(-3, 5), 4, Fraction(1, 5), -3], [0], [Fraction(-2, 5), 0, Fraction(-2, 5), -1], [0], [Fraction(-4, 5), 1, 0, 0]]\n",
      "6\n",
      "1\n",
      "[[Fraction(-4, 5), 3, 0, 0], [0], [Fraction(-1, 5), 0, Fraction(-1, 5), -1], [0], [Fraction(-2, 5), 2, Fraction(2, 5), -2], [0], [Fraction(-3, 5), 4, Fraction(1, 5), -3], [0], [Fraction(-2, 5), 0, Fraction(-2, 5), -1], [0], [Fraction(-4, 5), 1, 0, 0]]\n",
      "5.0\n",
      "2\n",
      "start stop are: 2 4\n",
      "to contract are: [[Fraction(-2, 5), 2, Fraction(2, 5), -2], [Fraction(-3, 5), 4, Fraction(1, 5), -3]]\n",
      "[5, 1, 3]\n",
      "[[Fraction(-4, 5), 3, 0, 0], [0], [Fraction(-1, 5), 0, Fraction(-1, 5), -1], [0], [Fraction(-2, 5), 2, Fraction(2, 5), -2], [0], [Fraction(-3, 5), 4, Fraction(1, 5), -3], [0], [Fraction(-2, 5), 0, Fraction(-2, 5), -1], [0], [Fraction(-4, 5), 1, 0, 0]]\n",
      "[[Fraction(-4, 5), 3, 0, 0], [0], [Fraction(-1, 5), 0, Fraction(-1, 5), -1], [Fraction(-2, 5), 0, Fraction(-2, 5), -1], [0], [Fraction(-4, 5), 1, 0, 0]]\n",
      "[[Fraction(-4, 5), 3, 0, 0], [0], [Fraction(-1, 5), 0, Fraction(-1, 5), -1], [5, 1, 3], [Fraction(-2, 5), 0, Fraction(-2, 5), -1], [0], [Fraction(-4, 5), 1, 0, 0]]\n"
     ]
    },
    {
     "data": {
      "text/plain": [
       "[[Fraction(-4, 5), 3, 0, 0],\n",
       " [0],\n",
       " [Fraction(-1, 5), 0, Fraction(-1, 5), -1],\n",
       " [5, 1, 3],\n",
       " [Fraction(-2, 5), 0, Fraction(-2, 5), -1],\n",
       " [0],\n",
       " [Fraction(-4, 5), 1, 0, 0]]"
      ]
     },
     "execution_count": 95,
     "metadata": {},
     "output_type": "execute_result"
    }
   ],
   "source": [
    "cv = resolve(5,3,1,1,1)\n",
    "cvsmth = contract2smooth(cv)\n",
    "contract2min(cvsmth)"
   ]
  },
  {
   "cell_type": "code",
   "execution_count": 72,
   "metadata": {},
   "outputs": [
    {
     "name": "stdout",
     "output_type": "stream",
     "text": [
      "[Fraction(2, 1)]\n",
      "2\n"
     ]
    },
    {
     "data": {
      "text/plain": [
       "1"
      ]
     },
     "execution_count": 72,
     "metadata": {},
     "output_type": "execute_result"
    }
   ],
   "source": [
    "x = HJcontinuedFraction(toNegativeFractions([-2]))\n",
    "x.numerator\n",
    "x.denominator\n"
   ]
  },
  {
   "cell_type": "code",
   "execution_count": 52,
   "metadata": {},
   "outputs": [
    {
     "ename": "IndexError",
     "evalue": "list index out of range",
     "output_type": "error",
     "traceback": [
      "\u001b[0;31m---------------------------------------------------------------------------\u001b[0m",
      "\u001b[0;31mIndexError\u001b[0m                                Traceback (most recent call last)",
      "\u001b[0;32m<ipython-input-52-617286a56e68>\u001b[0m in \u001b[0;36m<module>\u001b[0;34m\u001b[0m\n\u001b[0;32m----> 1\u001b[0;31m \u001b[0mcontract2smooth\u001b[0m\u001b[0;34m(\u001b[0m\u001b[0mcv\u001b[0m\u001b[0;34m)\u001b[0m\u001b[0;34m\u001b[0m\u001b[0;34m\u001b[0m\u001b[0m\n\u001b[0m",
      "\u001b[0;32m<ipython-input-40-59a98d0af811>\u001b[0m in \u001b[0;36mcontract2smooth\u001b[0;34m(curves)\u001b[0m\n\u001b[1;32m    121\u001b[0m     \u001b[0mi\u001b[0m \u001b[0;34m=\u001b[0m \u001b[0;36m1\u001b[0m\u001b[0;34m\u001b[0m\u001b[0;34m\u001b[0m\u001b[0m\n\u001b[1;32m    122\u001b[0m     \u001b[0;32mwhile\u001b[0m \u001b[0mi\u001b[0m \u001b[0;34m<\u001b[0m \u001b[0mnoCurves\u001b[0m\u001b[0;34m:\u001b[0m\u001b[0;34m\u001b[0m\u001b[0;34m\u001b[0m\u001b[0m\n\u001b[0;32m--> 123\u001b[0;31m         \u001b[0;32mif\u001b[0m \u001b[0mcurves\u001b[0m\u001b[0;34m[\u001b[0m\u001b[0mi\u001b[0m\u001b[0;34m]\u001b[0m\u001b[0;34m[\u001b[0m\u001b[0;36m2\u001b[0m\u001b[0;34m]\u001b[0m \u001b[0;34m>=\u001b[0m \u001b[0;36m0\u001b[0m \u001b[0;32mand\u001b[0m \u001b[0mcurves\u001b[0m\u001b[0;34m[\u001b[0m\u001b[0mi\u001b[0m\u001b[0;34m]\u001b[0m\u001b[0;34m[\u001b[0m\u001b[0;36m3\u001b[0m\u001b[0;34m]\u001b[0m \u001b[0;34m==\u001b[0m \u001b[0;34m-\u001b[0m\u001b[0;36m1\u001b[0m\u001b[0;34m:\u001b[0m\u001b[0;34m\u001b[0m\u001b[0;34m\u001b[0m\u001b[0m\n\u001b[0m\u001b[1;32m    124\u001b[0m \u001b[0;31m#            print(i)\u001b[0m\u001b[0;34m\u001b[0m\u001b[0;34m\u001b[0m\u001b[0;34m\u001b[0m\u001b[0m\n\u001b[1;32m    125\u001b[0m             \u001b[0mnoCurves\u001b[0m\u001b[0;34m=\u001b[0m\u001b[0mlen\u001b[0m\u001b[0;34m(\u001b[0m\u001b[0mcurves\u001b[0m\u001b[0;34m)\u001b[0m\u001b[0;34m\u001b[0m\u001b[0;34m\u001b[0m\u001b[0m\n",
      "\u001b[0;31mIndexError\u001b[0m: list index out of range"
     ]
    }
   ],
   "source": [
    "contract2smooth(cv)"
   ]
  },
  {
   "cell_type": "code",
   "execution_count": 41,
   "metadata": {},
   "outputs": [
    {
     "data": {
      "text/plain": [
       "[2, 3, 0, 1, 6, 7, 4, 5, 10, 11, 8, 9, 14, 15, 12, 13]"
      ]
     },
     "execution_count": 41,
     "metadata": {},
     "output_type": "execute_result"
    }
   ],
   "source": [
    "indices = list(range(16))\n",
    "indices\n",
    "[i^2 for i in indices]"
   ]
  },
  {
   "cell_type": "code",
   "execution_count": 74,
   "metadata": {},
   "outputs": [
    {
     "data": {
      "text/plain": [
       "[Fraction(-4, 5), 1, 0, 0]"
      ]
     },
     "execution_count": 74,
     "metadata": {},
     "output_type": "execute_result"
    }
   ],
   "source": [
    "cv[-1]"
   ]
  },
  {
   "cell_type": "code",
   "execution_count": 75,
   "metadata": {},
   "outputs": [
    {
     "data": {
      "text/plain": [
       "[[Fraction(-4, 5), 3, 0, 0],\n",
       " [Fraction(-1, 5), 0, Fraction(-1, 5), -1],\n",
       " [Fraction(-2, 5), 2, Fraction(2, 5), -2],\n",
       " [Fraction(-3, 5), 4, Fraction(1, 5), -3],\n",
       " [Fraction(-2, 5), 0, Fraction(-2, 5), -1],\n",
       " [Fraction(-4, 5), 1, 0, 0]]"
      ]
     },
     "execution_count": 75,
     "metadata": {},
     "output_type": "execute_result"
    }
   ],
   "source": [
    "cv"
   ]
  },
  {
   "cell_type": "code",
   "execution_count": 76,
   "metadata": {},
   "outputs": [
    {
     "data": {
      "text/plain": [
       "[Fraction(-4, 5), 1, 0, 0]"
      ]
     },
     "execution_count": 76,
     "metadata": {},
     "output_type": "execute_result"
    }
   ],
   "source": [
    "cv[-1]"
   ]
  },
  {
   "cell_type": "code",
   "execution_count": null,
   "metadata": {},
   "outputs": [],
   "source": []
  }
 ],
 "metadata": {
  "kernelspec": {
   "display_name": "Python 3",
   "language": "python",
   "name": "python3"
  },
  "language_info": {
   "codemirror_mode": {
    "name": "ipython",
    "version": 3
   },
   "file_extension": ".py",
   "mimetype": "text/x-python",
   "name": "python",
   "nbconvert_exporter": "python",
   "pygments_lexer": "ipython3",
   "version": "3.8.2"
  }
 },
 "nbformat": 4,
 "nbformat_minor": 2
}
