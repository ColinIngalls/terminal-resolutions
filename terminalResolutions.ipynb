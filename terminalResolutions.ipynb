{
 "cells": [
  {
   "cell_type": "code",
   "execution_count": 78,
   "metadata": {},
   "outputs": [
    {
     "name": "stdout",
     "output_type": "stream",
     "text": [
      "Please enter the ramification data tuple n,z1,z2,g1,g2\n",
      "5,1,2,1,1\n",
      "Corresponding maximal order has ram data:1 2  modulo  5 giving ramification indices  5 5 .\n",
      "We need to blowup set of nodes  at most 4 times.\n",
      "This is the 1-th blowup. New curves have  log and b- discrepancy and ramification:\n",
      "-3/5 1/5 3; DONE\n",
      "\n",
      "This is the 2-th blowup. New curves have  log and b- discrepancy and ramification:\n",
      "-2/5 2/5 4;-2/5 -2/5 0; DONE\n",
      "\n",
      "This is the 3-th blowup. New curves have  log and b- discrepancy and ramification:\n",
      "-1/5 -1/5 0;0 4/5 2;0 4/5 3;-1/5 3/5 2; DONE\n",
      "\n",
      "This is the 4-th blowup. New curves have  log and b- discrepancy and ramification:\n",
      "0 4/5 1;2/5 6/5 4;3/5 7/5 1;2/5 2/5 0;2/5 6/5 1;3/5 7/5 3;2/5 6/5 2;0 4/5 4;"
     ]
    },
    {
     "data": {
      "text/plain": [
       "{0: [Fraction(-4, 5), 1],\n",
       " 1: [Fraction(0, 1), 1, Fraction(4, 5), -1],\n",
       " 2: [Fraction(-1, 5), 0, Fraction(-1, 5), -3],\n",
       " 3: [Fraction(2, 5), 4, Fraction(6, 5), -1],\n",
       " 4: [Fraction(-2, 5), 4, Fraction(2, 5), -5],\n",
       " 5: [Fraction(3, 5), 1, Fraction(7, 5), -1],\n",
       " 6: [Fraction(0, 1), 2, Fraction(4, 5), -3],\n",
       " 7: [Fraction(2, 5), 0, Fraction(2, 5), -1],\n",
       " 8: [Fraction(-3, 5), 3, Fraction(1, 5), -7],\n",
       " 9: [Fraction(2, 5), 1, Fraction(6, 5), -1],\n",
       " 10: [Fraction(0, 1), 3, Fraction(4, 5), -3],\n",
       " 11: [Fraction(3, 5), 3, Fraction(7, 5), -1],\n",
       " 12: [Fraction(-2, 5), 0, Fraction(-2, 5), -5],\n",
       " 13: [Fraction(2, 5), 2, Fraction(6, 5), -1],\n",
       " 14: [Fraction(-1, 5), 2, Fraction(3, 5), -3],\n",
       " 15: [Fraction(0, 1), 4, Fraction(4, 5), -1],\n",
       " 16: [Fraction(-4, 5), 2]}"
      ]
     },
     "execution_count": 78,
     "metadata": {},
     "output_type": "execute_result"
    }
   ],
   "source": [
    "# %load Resolve.py\n",
    "# Resolve.py\n",
    "\"\"\"\n",
    "We consider a normal order ramified on snc but no secondary ramification. We\n",
    "blow up repeatedly at nodes recording the log discrepancy and\n",
    "b-discrepancy until we have all possible negative discrepancy curves.\n",
    "\n",
    "The exceptional curves should probably be indexed by dyadic fractions, written\n",
    "as binary numbers, but we will instead clear denominators and work with\n",
    "integers. \n",
    "\"\"\"\n",
    "\n",
    "from fractions import Fraction\n",
    "\n",
    "\n",
    "# Enter initial ramification data.\n",
    "# The ramification cover of the curve i is gi copies of zi modulo n\n",
    "initial_ram_data = input(\"Please enter the ramification data tuple n,z1,z2,g1,g2\\n\")\n",
    "n_str, z1_str, z2_str, g1_str, g2_str = initial_ram_data.split(',')\n",
    "n = int(n_str.strip())\n",
    "z1 = int(z1_str.strip())\n",
    "z2 = int(z2_str.strip())\n",
    "g1 = int(g1_str.strip())\n",
    "g2 = int(g2_str.strip())\n",
    "\n",
    "\n",
    "#This function computes the order of an element in a cyclic group.\n",
    "def order(num,modulus):\n",
    "    ord = 1\n",
    "    while ord*num %modulus !=0:\n",
    "        ord +=1\n",
    "    return ord\n",
    "\n",
    "\n",
    "print(\"Corresponding maximal order has ram data\", end=':')\n",
    "print(z1 % n, z2 % n, ' modulo ', n, end='')\n",
    "f1 = order(z1,n) # these are ramification indices of max order\n",
    "f2 = order(z2,n)\n",
    "print(' giving ramification indices ', f1, f2,'.')\n",
    "# Check working by showing ramification of containing maximal order\n",
    "\n",
    "\n",
    "\n",
    "\"\"\"\n",
    "This is the function that computes log and b-discrepancies of\n",
    "all exceptional curves in a good log resolution. Here the good log\n",
    "resolution is one chosen so all negative discrepancy curves are\n",
    "guaranteed to be found there. The data will be recorded in a dictionary.\n",
    "\"\"\"\n",
    "def resolve(n,z1,z2,g1,g2):\n",
    "    f1 = order(z1,n) # these are ramification indices of max order\n",
    "    f2 = order(z2,n)\n",
    "    no_blowups = max(g1,g2)*n -1\n",
    "    # crude bound on number of blowups to ensure good log resolution\n",
    "    print(f'We need to blowup set of nodes  at most {no_blowups} times.')\n",
    "    no_curves = 2**no_blowups # number of exc curves actually 2**no_blowups -1\n",
    "    curves = {0:[Fraction(1,f1*g1)-1,z1] , no_curves:[Fraction(1,f2*g2)-1,z2]}\n",
    "    # Create dictionary of curve data. Keys are 0 up to no_curves.\n",
    "    # Current values are lists of [log discrepancy, ram of max order] \n",
    "    step = no_curves # Final indices for strict transforms of initial ram \n",
    "                     # curves are `step' apart\n",
    "\n",
    "    \n",
    "    for i in range(1,no_blowups+1):\n",
    "\n",
    "        print(f'This is the {i}-th blowup. New curves have  log and b- discrepancy and ramification:')\n",
    "        l = len(curves)-1 # the number of new exceptional curves\n",
    "       \n",
    "        oldcurves = set(curves.keys()).difference({0,no_curves})\n",
    "        for index in oldcurves:\n",
    "            curves[index] = [curves[index][0], curves[index][1], curves[index][2],curves[index][3]-2]                                                         \n",
    "        step = int(step/2) # indices of i-th blowup curves have indices 'step' apart\n",
    "        \n",
    "        is_good_res = True\n",
    "        # We'll use this to test if the i-th blowup gives a good resolution\n",
    "\n",
    "        for j in range(l):\n",
    "            log_disc = 1 + curves[2*j*step][0] + curves[(2*j+2)*step][0]\n",
    "            #  Give log discrepancy of j-th new exceptional in i-th blowup\n",
    "            is_good_res =  is_good_res and (log_disc >=0)\n",
    "            ram = (curves[2*j*step][1] + curves[(2*j+2)*step][1])%n\n",
    "            # Gives ramification along j-th new exceptional in i-th blowup\n",
    "            b_disc = log_disc + 1-Fraction(1,order(ram,n))\n",
    "            # Compute the b-discrepancy\n",
    "            curves[(2*j +1)*step] = [log_disc, ram, b_disc,-1]\n",
    "            # Update curves dictionary with entry for j-th curve in i-th blowup\n",
    "            print(log_disc,b_disc, ram, end=';')\n",
    "\n",
    "        if is_good_res:\n",
    "            break\n",
    "        else:\n",
    "            print(' DONE', end='\\n\\n')\n",
    "    return curves\n",
    "    print('\\n\\n Good log resolution has been achieved.')\n",
    "\n",
    "resolve(n,z1,z2,g1,g2)\n"
   ]
  },
  {
   "cell_type": "code",
   "execution_count": 69,
   "metadata": {},
   "outputs": [
    {
     "data": {
      "text/plain": [
       "dict_keys([0, 16])"
      ]
     },
     "execution_count": 69,
     "metadata": {},
     "output_type": "execute_result"
    }
   ],
   "source": [
    "curves = {0:[2,3],16:[1,3]}\n",
    "curves.keys()"
   ]
  },
  {
   "cell_type": "code",
   "execution_count": 33,
   "metadata": {},
   "outputs": [
    {
     "name": "stdout",
     "output_type": "stream",
     "text": [
      "We need to blowup set of nodes  at most 7 times.\n",
      "This is the 1-th blowup. New curves have  log and b- discrepancy and ramification:\n",
      "-1/2 1/4 1; DONE\n",
      "\n",
      "This is the 2-th blowup. New curves have  log and b- discrepancy and ramification:\n",
      "-1/4 -1/4 0;-1/4 1/2 3; DONE\n",
      "\n",
      "This is the 3-th blowup. New curves have  log and b- discrepancy and ramification:\n",
      "0 3/4 3;1/4 1 1;1/4 1/4 0;0 3/4 1;"
     ]
    },
    {
     "data": {
      "text/plain": [
       "{0: [Fraction(-3, 4), 3],\n",
       " 16: [Fraction(0, 1), 3, Fraction(3, 4)],\n",
       " 32: [Fraction(-1, 4), 0, Fraction(-1, 4)],\n",
       " 48: [Fraction(1, 4), 1, Fraction(1, 1)],\n",
       " 64: [Fraction(-1, 2), 1, Fraction(1, 4)],\n",
       " 80: [Fraction(1, 4), 0, Fraction(1, 4)],\n",
       " 96: [Fraction(-1, 4), 3, Fraction(1, 2)],\n",
       " 112: [Fraction(0, 1), 1, Fraction(3, 4)],\n",
       " 128: [Fraction(-3, 4), 2]}"
      ]
     },
     "execution_count": 33,
     "metadata": {},
     "output_type": "execute_result"
    }
   ],
   "source": [
    "resolve(4,3,2,1,2)"
   ]
  },
  {
   "cell_type": "code",
   "execution_count": 34,
   "metadata": {},
   "outputs": [
    {
     "name": "stdout",
     "output_type": "stream",
     "text": [
      "We need to blowup set of nodes  at most 4 times.\n",
      "This is the 1-th blowup. New curves have  log and b- discrepancy and ramification:\n",
      "-3/5 1/5 3; DONE\n",
      "\n",
      "This is the 2-th blowup. New curves have  log and b- discrepancy and ramification:\n",
      "-2/5 -2/5 0;-2/5 2/5 4; DONE\n",
      "\n",
      "This is the 3-th blowup. New curves have  log and b- discrepancy and ramification:\n",
      "-1/5 3/5 2;0 4/5 3;0 4/5 2;-1/5 -1/5 0; DONE\n",
      "\n",
      "This is the 4-th blowup. New curves have  log and b- discrepancy and ramification:\n",
      "0 4/5 4;2/5 6/5 2;3/5 7/5 3;2/5 6/5 1;2/5 2/5 0;3/5 7/5 1;2/5 6/5 4;0 4/5 1;"
     ]
    }
   ],
   "source": [
    "r = resolve(5,2,1,1,1)"
   ]
  },
  {
   "cell_type": "code",
   "execution_count": 54,
   "metadata": {},
   "outputs": [
    {
     "ename": "NameError",
     "evalue": "name 'Keys' is not defined",
     "output_type": "error",
     "traceback": [
      "\u001b[0;31m---------------------------------------------------------------------------\u001b[0m",
      "\u001b[0;31mNameError\u001b[0m                                 Traceback (most recent call last)",
      "\u001b[0;32m<ipython-input-54-9f94b055c0a4>\u001b[0m in \u001b[0;36m<module>\u001b[0;34m()\u001b[0m\n\u001b[0;32m----> 1\u001b[0;31m \u001b[0mKeys\u001b[0m\u001b[0;34m(\u001b[0m\u001b[0mr\u001b[0m\u001b[0;34m)\u001b[0m\u001b[0;34m\u001b[0m\u001b[0;34m\u001b[0m\u001b[0m\n\u001b[0m",
      "\u001b[0;31mNameError\u001b[0m: name 'Keys' is not defined"
     ]
    }
   ],
   "source": [
    "Keys(r)"
   ]
  },
  {
   "cell_type": "code",
   "execution_count": 55,
   "metadata": {},
   "outputs": [
    {
     "ename": "KeyboardInterrupt",
     "evalue": "",
     "output_type": "error",
     "traceback": [
      "\u001b[0;31m---------------------------------------------------------------------------\u001b[0m",
      "\u001b[0;31mKeyboardInterrupt\u001b[0m                         Traceback (most recent call last)",
      "\u001b[0;32m/usr/lib/python3/dist-packages/ipykernel/kernelbase.py\u001b[0m in \u001b[0;36m_input_request\u001b[0;34m(self, prompt, ident, parent, password)\u001b[0m\n\u001b[1;32m    728\u001b[0m             \u001b[0;32mtry\u001b[0m\u001b[0;34m:\u001b[0m\u001b[0;34m\u001b[0m\u001b[0;34m\u001b[0m\u001b[0m\n\u001b[0;32m--> 729\u001b[0;31m                 \u001b[0mident\u001b[0m\u001b[0;34m,\u001b[0m \u001b[0mreply\u001b[0m \u001b[0;34m=\u001b[0m \u001b[0mself\u001b[0m\u001b[0;34m.\u001b[0m\u001b[0msession\u001b[0m\u001b[0;34m.\u001b[0m\u001b[0mrecv\u001b[0m\u001b[0;34m(\u001b[0m\u001b[0mself\u001b[0m\u001b[0;34m.\u001b[0m\u001b[0mstdin_socket\u001b[0m\u001b[0;34m,\u001b[0m \u001b[0;36m0\u001b[0m\u001b[0;34m)\u001b[0m\u001b[0;34m\u001b[0m\u001b[0;34m\u001b[0m\u001b[0m\n\u001b[0m\u001b[1;32m    730\u001b[0m             \u001b[0;32mexcept\u001b[0m \u001b[0mException\u001b[0m\u001b[0;34m:\u001b[0m\u001b[0;34m\u001b[0m\u001b[0;34m\u001b[0m\u001b[0m\n",
      "\u001b[0;32m/usr/lib/python3/dist-packages/jupyter_client/session.py\u001b[0m in \u001b[0;36mrecv\u001b[0;34m(self, socket, mode, content, copy)\u001b[0m\n\u001b[1;32m    802\u001b[0m         \u001b[0;32mtry\u001b[0m\u001b[0;34m:\u001b[0m\u001b[0;34m\u001b[0m\u001b[0;34m\u001b[0m\u001b[0m\n\u001b[0;32m--> 803\u001b[0;31m             \u001b[0mmsg_list\u001b[0m \u001b[0;34m=\u001b[0m \u001b[0msocket\u001b[0m\u001b[0;34m.\u001b[0m\u001b[0mrecv_multipart\u001b[0m\u001b[0;34m(\u001b[0m\u001b[0mmode\u001b[0m\u001b[0;34m,\u001b[0m \u001b[0mcopy\u001b[0m\u001b[0;34m=\u001b[0m\u001b[0mcopy\u001b[0m\u001b[0;34m)\u001b[0m\u001b[0;34m\u001b[0m\u001b[0;34m\u001b[0m\u001b[0m\n\u001b[0m\u001b[1;32m    804\u001b[0m         \u001b[0;32mexcept\u001b[0m \u001b[0mzmq\u001b[0m\u001b[0;34m.\u001b[0m\u001b[0mZMQError\u001b[0m \u001b[0;32mas\u001b[0m \u001b[0me\u001b[0m\u001b[0;34m:\u001b[0m\u001b[0;34m\u001b[0m\u001b[0;34m\u001b[0m\u001b[0m\n",
      "\u001b[0;32m/usr/lib/python3/dist-packages/zmq/sugar/socket.py\u001b[0m in \u001b[0;36mrecv_multipart\u001b[0;34m(self, flags, copy, track)\u001b[0m\n\u001b[1;32m    394\u001b[0m         \"\"\"\n\u001b[0;32m--> 395\u001b[0;31m         \u001b[0mparts\u001b[0m \u001b[0;34m=\u001b[0m \u001b[0;34m[\u001b[0m\u001b[0mself\u001b[0m\u001b[0;34m.\u001b[0m\u001b[0mrecv\u001b[0m\u001b[0;34m(\u001b[0m\u001b[0mflags\u001b[0m\u001b[0;34m,\u001b[0m \u001b[0mcopy\u001b[0m\u001b[0;34m=\u001b[0m\u001b[0mcopy\u001b[0m\u001b[0;34m,\u001b[0m \u001b[0mtrack\u001b[0m\u001b[0;34m=\u001b[0m\u001b[0mtrack\u001b[0m\u001b[0;34m)\u001b[0m\u001b[0;34m]\u001b[0m\u001b[0;34m\u001b[0m\u001b[0;34m\u001b[0m\u001b[0m\n\u001b[0m\u001b[1;32m    396\u001b[0m         \u001b[0;31m# have first part already, only loop while more to receive\u001b[0m\u001b[0;34m\u001b[0m\u001b[0;34m\u001b[0m\u001b[0;34m\u001b[0m\u001b[0m\n",
      "\u001b[0;32mzmq/backend/cython/socket.pyx\u001b[0m in \u001b[0;36mzmq.backend.cython.socket.Socket.recv (zmq/backend/cython/socket.c:7692)\u001b[0;34m()\u001b[0m\n",
      "\u001b[0;32mzmq/backend/cython/socket.pyx\u001b[0m in \u001b[0;36mzmq.backend.cython.socket.Socket.recv (zmq/backend/cython/socket.c:7469)\u001b[0;34m()\u001b[0m\n",
      "\u001b[0;32mzmq/backend/cython/socket.pyx\u001b[0m in \u001b[0;36mzmq.backend.cython.socket._recv_copy (zmq/backend/cython/socket.c:2353)\u001b[0;34m()\u001b[0m\n",
      "\u001b[0;32m/usr/lib/python3/dist-packages/zmq/backend/cython/checkrc.pxd\u001b[0m in \u001b[0;36mzmq.backend.cython.checkrc._check_rc (zmq/backend/cython/socket.c:8007)\u001b[0;34m()\u001b[0m\n",
      "\u001b[0;31mKeyboardInterrupt\u001b[0m: ",
      "\nDuring handling of the above exception, another exception occurred:\n",
      "\u001b[0;31mKeyboardInterrupt\u001b[0m                         Traceback (most recent call last)",
      "\u001b[0;32m<ipython-input-55-b375dc9ab646>\u001b[0m in \u001b[0;36m<module>\u001b[0;34m()\u001b[0m\n\u001b[1;32m     14\u001b[0m \u001b[0;31m# Enter initial ramification data.\u001b[0m\u001b[0;34m\u001b[0m\u001b[0;34m\u001b[0m\u001b[0;34m\u001b[0m\u001b[0m\n\u001b[1;32m     15\u001b[0m \u001b[0;31m# The ramification cover of the curve i is gi copies of zi modulo n\u001b[0m\u001b[0;34m\u001b[0m\u001b[0;34m\u001b[0m\u001b[0;34m\u001b[0m\u001b[0m\n\u001b[0;32m---> 16\u001b[0;31m \u001b[0minitial_ram_data\u001b[0m \u001b[0;34m=\u001b[0m \u001b[0minput\u001b[0m\u001b[0;34m(\u001b[0m\u001b[0;34m\"Please enter the ramification data tuple n,z1,z2,g1,g2\\n\"\u001b[0m\u001b[0;34m)\u001b[0m\u001b[0;34m\u001b[0m\u001b[0;34m\u001b[0m\u001b[0m\n\u001b[0m\u001b[1;32m     17\u001b[0m \u001b[0mn_str\u001b[0m\u001b[0;34m,\u001b[0m \u001b[0mz1_str\u001b[0m\u001b[0;34m,\u001b[0m \u001b[0mz2_str\u001b[0m\u001b[0;34m,\u001b[0m \u001b[0mg1_str\u001b[0m\u001b[0;34m,\u001b[0m \u001b[0mg2_str\u001b[0m \u001b[0;34m=\u001b[0m \u001b[0minitial_ram_data\u001b[0m\u001b[0;34m.\u001b[0m\u001b[0msplit\u001b[0m\u001b[0;34m(\u001b[0m\u001b[0;34m','\u001b[0m\u001b[0;34m)\u001b[0m\u001b[0;34m\u001b[0m\u001b[0;34m\u001b[0m\u001b[0m\n\u001b[1;32m     18\u001b[0m \u001b[0mn\u001b[0m \u001b[0;34m=\u001b[0m \u001b[0mint\u001b[0m\u001b[0;34m(\u001b[0m\u001b[0mn_str\u001b[0m\u001b[0;34m.\u001b[0m\u001b[0mstrip\u001b[0m\u001b[0;34m(\u001b[0m\u001b[0;34m)\u001b[0m\u001b[0;34m)\u001b[0m\u001b[0;34m\u001b[0m\u001b[0;34m\u001b[0m\u001b[0m\n",
      "\u001b[0;32m/usr/lib/python3/dist-packages/ipykernel/kernelbase.py\u001b[0m in \u001b[0;36mraw_input\u001b[0;34m(self, prompt)\u001b[0m\n\u001b[1;32m    702\u001b[0m             \u001b[0mself\u001b[0m\u001b[0;34m.\u001b[0m\u001b[0m_parent_ident\u001b[0m\u001b[0;34m,\u001b[0m\u001b[0;34m\u001b[0m\u001b[0;34m\u001b[0m\u001b[0m\n\u001b[1;32m    703\u001b[0m             \u001b[0mself\u001b[0m\u001b[0;34m.\u001b[0m\u001b[0m_parent_header\u001b[0m\u001b[0;34m,\u001b[0m\u001b[0;34m\u001b[0m\u001b[0;34m\u001b[0m\u001b[0m\n\u001b[0;32m--> 704\u001b[0;31m             \u001b[0mpassword\u001b[0m\u001b[0;34m=\u001b[0m\u001b[0;32mFalse\u001b[0m\u001b[0;34m,\u001b[0m\u001b[0;34m\u001b[0m\u001b[0;34m\u001b[0m\u001b[0m\n\u001b[0m\u001b[1;32m    705\u001b[0m         )\n\u001b[1;32m    706\u001b[0m \u001b[0;34m\u001b[0m\u001b[0m\n",
      "\u001b[0;32m/usr/lib/python3/dist-packages/ipykernel/kernelbase.py\u001b[0m in \u001b[0;36m_input_request\u001b[0;34m(self, prompt, ident, parent, password)\u001b[0m\n\u001b[1;32m    732\u001b[0m             \u001b[0;32mexcept\u001b[0m \u001b[0mKeyboardInterrupt\u001b[0m\u001b[0;34m:\u001b[0m\u001b[0;34m\u001b[0m\u001b[0;34m\u001b[0m\u001b[0m\n\u001b[1;32m    733\u001b[0m                 \u001b[0;31m# re-raise KeyboardInterrupt, to truncate traceback\u001b[0m\u001b[0;34m\u001b[0m\u001b[0;34m\u001b[0m\u001b[0;34m\u001b[0m\u001b[0m\n\u001b[0;32m--> 734\u001b[0;31m                 \u001b[0;32mraise\u001b[0m \u001b[0mKeyboardInterrupt\u001b[0m\u001b[0;34m\u001b[0m\u001b[0;34m\u001b[0m\u001b[0m\n\u001b[0m\u001b[1;32m    735\u001b[0m             \u001b[0;32melse\u001b[0m\u001b[0;34m:\u001b[0m\u001b[0;34m\u001b[0m\u001b[0;34m\u001b[0m\u001b[0m\n\u001b[1;32m    736\u001b[0m                 \u001b[0;32mbreak\u001b[0m\u001b[0;34m\u001b[0m\u001b[0;34m\u001b[0m\u001b[0m\n",
      "\u001b[0;31mKeyboardInterrupt\u001b[0m: "
     ]
    }
   ],
   "source": [
    "# Resolve.py\n",
    "\"\"\"\n",
    "We consider a normal order ramified on snc but no secondary ramification. We\n",
    "blow up repeatedly at nodes recording the log discrepancy and\n",
    "b-discrepancy until we have all possible negative discrepancy curves.\n",
    "The exceptional curves should probably be indexed by dyadic fractions, written\n",
    "as binary numbers, but we will instead clear denominators and work with\n",
    "integers. \n",
    "\"\"\"\n",
    "\n",
    "from fractions import Fraction\n",
    "\n",
    "\n",
    "# Enter initial ramification data.\n",
    "# The ramification cover of the curve i is gi copies of zi modulo n\n",
    "initial_ram_data = input(\"Please enter the ramification data tuple n,z1,z2,g1,g2\\n\")\n",
    "n_str, z1_str, z2_str, g1_str, g2_str = initial_ram_data.split(',')\n",
    "n = int(n_str.strip())\n",
    "z1 = int(z1_str.strip())\n",
    "z2 = int(z2_str.strip())\n",
    "g1 = int(g1_str.strip())\n",
    "g2 = int(g2_str.strip())\n",
    "\n",
    "\n",
    "#This function computes the order of an element in a cyclic group.\n",
    "def order(num,modulus):\n",
    "    ord = 1\n",
    "    while ord*num %modulus !=0:\n",
    "        ord +=1\n",
    "    return ord\n",
    "\n",
    "\n",
    "print(\"Corresponding maximal order has ram data\", end=':')\n",
    "print(z1 % n, z2 % n, ' modulo ', n, end='')\n",
    "f1 = order(z1,n) # these are ramification indices of max order\n",
    "f2 = order(z2,n)\n",
    "print(' giving ramification indices ', f1, f2,'.')\n",
    "# Check working by showing ramification of containing maximal order\n",
    "\n",
    "\n",
    "\n",
    "\"\"\"\n",
    "This is the function that computes log and b-discrepancies of\n",
    "all exceptional curves in a good log resolution. Here the good log\n",
    "resolution is one chosen so all negative discrepancy curves are\n",
    "guaranteed to be found there. The data will be recorded in a dictionary.\n",
    "\"\"\"\n",
    "def resolve(n,z1,z2,g1,g2):\n",
    "    \n",
    "    no_blowups = max(g1,g2)*n -1\n",
    "    # crude bound on number of blowups to ensure good log resolution\n",
    "    print(f'We need to blowup set of nodes  at most {no_blowups} times.')\n",
    "    no_curves = 2**no_blowups # number of exc curves actually 2**no_blowups -1\n",
    "    curves = {0:[Fraction(1,f1*g1)-1,z1] , no_curves:[Fraction(1,f2*g2)-1,z2]}\n",
    "    # Create dictionary of curve data. Keys are 0 up to no_curves.\n",
    "    # Current values are lists of [log discrepancy, ram of max order] \n",
    "    step = no_curves # Final indices for strict transforms of initial ram \n",
    "                     # curves are `step' apart\n",
    "\n",
    "    \n",
    "    for i in range(1,no_blowups+1):\n",
    "\n",
    "        print(f'This is the {i}-th blowup. New curves have  log and b- discrepancy and ramification:')\n",
    "        step = int(step/2) # indices of i-th blowup curves have indices 'step' apart\n",
    "        l = len(curves)-1 # the number of new exceptional curves\n",
    "        is_good_res = True\n",
    "        # We'll use this to test if the i-th blowup gives a good resolution\n",
    "\n",
    "        for j in range(l):\n",
    "            log_disc = 1 + curves[2*j*step][0] + curves[(2*j+2)*step][0]\n",
    "            #  Give log discrepancy of j-th new exceptional in i-th blowup\n",
    "            is_good_res =  is_good_res and (log_disc >=0)\n",
    "            ram = (curves[2*j*step][1] + curves[(2*j+2)*step][1])%n\n",
    "            # Gives ramification along j-th new exceptional in i-th blowup\n",
    "            b_disc = log_disc + 1-Fraction(1,order(ram,n))\n",
    "            # Compute the b-discrepancy\n",
    "            curves[(2*j +1)*step] = [log_disc, ram, b_disc]\n",
    "            # Update curves dictionary with entry for j-th curve in i-th blowup\n",
    "            print(log_disc,b_disc, ram, end=';')\n",
    "\n",
    "        if is_good_res:\n",
    "            print('break')\n",
    "            break\n",
    "        else:\n",
    "            print(' DONE', end='\\n\\n')\n",
    "            \n",
    "            \n",
    "    print('\\n\\n Good log resolution has been achieved.')\n",
    "\n",
    "resolve(n,z1,z2,g1,g2)\n",
    "            "
   ]
  },
  {
   "cell_type": "code",
   "execution_count": null,
   "metadata": {},
   "outputs": [],
   "source": [
    "d:={0:[0,0]"
   ]
  },
  {
   "cell_type": "code",
   "execution_count": null,
   "metadata": {},
   "outputs": [],
   "source": [
    "keys(d)"
   ]
  },
  {
   "cell_type": "code",
   "execution_count": null,
   "metadata": {},
   "outputs": [],
   "source": []
  }
 ],
 "metadata": {
  "kernelspec": {
   "display_name": "Python 3",
   "language": "python",
   "name": "python3"
  },
  "language_info": {
   "codemirror_mode": {
    "name": "ipython",
    "version": 3
   },
   "file_extension": ".py",
   "mimetype": "text/x-python",
   "name": "python",
   "nbconvert_exporter": "python",
   "pygments_lexer": "ipython3",
   "version": "3.6.9"
  }
 },
 "nbformat": 4,
 "nbformat_minor": 2
}
